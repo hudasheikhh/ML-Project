{
  "nbformat": 4,
  "nbformat_minor": 0,
  "metadata": {
    "colab": {
      "provenance": []
    },
    "kernelspec": {
      "name": "python3",
      "display_name": "Python 3"
    },
    "language_info": {
      "name": "python"
    }
  },
  "cells": [
    {
      "cell_type": "code",
      "execution_count": 1,
      "metadata": {
        "colab": {
          "base_uri": "https://localhost:8080/"
        },
        "id": "9sMqjeFtwPHJ",
        "outputId": "41f5eaec-0f47-4d05-c051-d48edb8f2ac5"
      },
      "outputs": [
        {
          "output_type": "stream",
          "name": "stdout",
          "text": [
            "Drive already mounted at /content/drive; to attempt to forcibly remount, call drive.mount(\"/content/drive\", force_remount=True).\n"
          ]
        }
      ],
      "source": [
        "from google.colab import drive\n",
        "drive.mount('/content/drive')"
      ]
    },
    {
      "cell_type": "code",
      "execution_count": 2,
      "metadata": {
        "id": "jyRfZPxOQl7r"
      },
      "outputs": [],
      "source": [
        "import pandas as pd\n",
        "import numpy as np\n",
        "from datetime import timedelta\n",
        "from sklearn.model_selection import train_test_split\n",
        "from sklearn.ensemble import RandomForestClassifier\n",
        "from xgboost import XGBClassifier\n",
        "from sklearn.metrics import confusion_matrix, precision_score, recall_score, accuracy_score, roc_auc_score, roc_curve\n",
        "import matplotlib.pyplot as plt\n",
        "import seaborn as sns"
      ]
    },
    {
      "cell_type": "code",
      "execution_count": 3,
      "metadata": {
        "colab": {
          "base_uri": "https://localhost:8080/"
        },
        "id": "jET2rv2_Qp2F",
        "outputId": "4a0c5492-07d4-49db-8cb3-057383dea574"
      },
      "outputs": [
        {
          "output_type": "stream",
          "name": "stderr",
          "text": [
            "<ipython-input-3-f316b53b0d92>:3: DtypeWarning: Columns (3) have mixed types. Specify dtype option on import or set low_memory=False.\n",
            "  customer_master_df = pd.read_csv('/content/drive/MyDrive/Colab Notebooks/wetransfer_campaign_data-csv_2024-04-13_0433/Customer_Master_Data.csv')\n"
          ]
        },
        {
          "output_type": "stream",
          "name": "stdout",
          "text": [
            "                             CustID     status Campaign_Exec_Date  \\\n",
            "0  11111J11RREFG1VoGo1FejtGEVV88JtM     viewed         2019-05-28   \n",
            "1  11111J11RREFG1VoGo1FejtGEVV88JtM  delivered         2019-05-29   \n",
            "2  11111J11RREFG1VoGo1FejtGEVV88JtM  delivered         2019-05-30   \n",
            "3  11111J11RREFG1VoGo1FejtGEVV88JtM  delivered         2019-06-03   \n",
            "4  11111J11RREFG1VoGo1FejtGEVV88JtM  delivered         2019-06-04   \n",
            "\n",
            "  Campaign_Channel  \n",
            "0            Email  \n",
            "1            Email  \n",
            "2            Email  \n",
            "3            Email  \n",
            "4            Email  \n",
            "      CustID Gender Marital_Status   Pincode          State\n",
            "0  7teAttAeH    NaN            NaN  678506.0          Keral\n",
            "1  7t8tJJHt7    NaN            NaN  770001.0         Odisha\n",
            "2  787t17tJt    NaN            NaN  245101.0  Uttar Pradesh\n",
            "3  787ttJtHH    NaN            NaN  673008.0          Keral\n",
            "4  7878HHoHo    NaN            NaN  501510.0      Telangana\n",
            "                             CustID                                  ItemDesc  \\\n",
            "0  JFRGRFjeEJVG8RJF8R1Foj8AJJ7Et8oH         APPLE PROTECTION PLAN MACBOOK PRO   \n",
            "1  JFRGRFjeEJVG8RJF8R1Foj8AJJ7Et8oH  MacBook Pro 16 2.6GH i7 9G 16GB 512GB SG   \n",
            "2  V1AG7tA7E1tMVjt7tVH7JARR11AVotet            Samsung Galaxy A70 S 6GB White   \n",
            "3  V1AG7tA7E1tMVjt7tVH7JARR11AVotet      Wireless Earphones ITFIT Freebie Red   \n",
            "4  tAEVH8jEG1Eoe1GE1JEojJetVtMGFjto                         DELL New bag pack   \n",
            "\n",
            "                   MerchCategoryDescription    MerchClassDescription  \\\n",
            "0         APPLE PROTECTION PLAN MACBOOK PRO         Mobile Computing   \n",
            "1  MacBook Pro 16 2.6GH i7 9G 16GB 512GB SG         Mobile Computing   \n",
            "2            Samsung Galaxy A70 S 6GB White  Smart Phones (OS Based)   \n",
            "3      Wireless Earphones ITFIT Freebie Red               Free Gifts   \n",
            "4                         DELL New bag pack         Mobile Computing   \n",
            "\n",
            "   MerchGroupDescription  SaleValue  OrderedQuantity   OrderDate ReturnFlag  \\\n",
            "0  Computers Peripherals  -25398.00               -1  2019-01-01        NaN   \n",
            "1  Computers Peripherals -193703.10               -1  2019-01-01        NaN   \n",
            "2          Communication   26518.98                1  2019-01-01        NaN   \n",
            "3          Miscellaneous       0.00                1  2019-01-01        NaN   \n",
            "4  Computers Peripherals   -1120.98               -1  2019-01-01        NaN   \n",
            "\n",
            "  SalesChannelCode Ecom_BnM_Indicator  StoreID StoreCode  StoreCity  \\\n",
            "0               RS                B&M     83.0      A129       Pune   \n",
            "1               RS                B&M     83.0      A129       Pune   \n",
            "2               RS                B&M     79.0      A122  Ghaziabad   \n",
            "3               RS                B&M     79.0      A122  Ghaziabad   \n",
            "4               RS                B&M      8.0      A010      Surat   \n",
            "\n",
            "    StoreState StorePincode  \n",
            "0  Maharashtra       411014  \n",
            "1  Maharashtra       411014  \n",
            "2    Delhi NCR       201001  \n",
            "3    Delhi NCR       201001  \n",
            "4      Gujarat       395007  \n",
            "\n",
            "<class 'pandas.core.frame.DataFrame'>\n",
            "RangeIndex: 10912592 entries, 0 to 10912591\n",
            "Data columns (total 4 columns):\n",
            " #   Column              Dtype \n",
            "---  ------              ----- \n",
            " 0   CustID              object\n",
            " 1   status              object\n",
            " 2   Campaign_Exec_Date  object\n",
            " 3   Campaign_Channel    object\n",
            "dtypes: object(4)\n",
            "memory usage: 333.0+ MB\n",
            "None\n",
            "<class 'pandas.core.frame.DataFrame'>\n",
            "RangeIndex: 502121 entries, 0 to 502120\n",
            "Data columns (total 5 columns):\n",
            " #   Column          Non-Null Count   Dtype \n",
            "---  ------          --------------   ----- \n",
            " 0   CustID          502121 non-null  object\n",
            " 1   Gender          364467 non-null  object\n",
            " 2   Marital_Status  67995 non-null   object\n",
            " 3   Pincode         492249 non-null  object\n",
            " 4   State           492181 non-null  object\n",
            "dtypes: object(5)\n",
            "memory usage: 19.2+ MB\n",
            "None\n",
            "<class 'pandas.core.frame.DataFrame'>\n",
            "RangeIndex: 1625393 entries, 0 to 1625392\n",
            "Data columns (total 16 columns):\n",
            " #   Column                    Non-Null Count    Dtype  \n",
            "---  ------                    --------------    -----  \n",
            " 0   CustID                    1625393 non-null  object \n",
            " 1   ItemDesc                  1615527 non-null  object \n",
            " 2   MerchCategoryDescription  1615527 non-null  object \n",
            " 3   MerchClassDescription     1613558 non-null  object \n",
            " 4   MerchGroupDescription     1613558 non-null  object \n",
            " 5   SaleValue                 1625384 non-null  float64\n",
            " 6   OrderedQuantity           1625393 non-null  int64  \n",
            " 7   OrderDate                 1625393 non-null  object \n",
            " 8   ReturnFlag                77239 non-null    object \n",
            " 9   SalesChannelCode          1625393 non-null  object \n",
            " 10  Ecom_BnM_Indicator        1625393 non-null  object \n",
            " 11  StoreID                   1625374 non-null  float64\n",
            " 12  StoreCode                 1625390 non-null  object \n",
            " 13  StoreCity                 1500269 non-null  object \n",
            " 14  StoreState                1442466 non-null  object \n",
            " 15  StorePincode              1442466 non-null  object \n",
            "dtypes: float64(2), int64(1), object(13)\n",
            "memory usage: 198.4+ MB\n",
            "None\n",
            "\n",
            "                                  CustID    status Campaign_Exec_Date  \\\n",
            "count                           10912592  10912592           10912592   \n",
            "unique                            371216         4                525   \n",
            "top     E7H7JeJo118eH7J1FRFEtFA7GRMjojHH    viewed         2020-11-28   \n",
            "freq                                  68   5697853             327960   \n",
            "\n",
            "       Campaign_Channel  \n",
            "count          10912592  \n",
            "unique                2  \n",
            "top               Email  \n",
            "freq           10527383  \n",
            "           CustID  Gender Marital_Status   Pincode        State\n",
            "count      502121  364467          67995  492249.0       492181\n",
            "unique     502121       3              2   17407.0           36\n",
            "top     7teAttAeH    Male      Unmarried  122001.0  Maharashtra\n",
            "freq            1  292764          45242    7055.0       129345\n",
            "          SaleValue  OrderedQuantity       StoreID\n",
            "count  1.625384e+06     1.625393e+06  1.625374e+06\n",
            "mean   9.919977e+03     8.147500e-01  1.233871e+02\n",
            "std    2.741182e+04     2.162130e+00  1.512482e+02\n",
            "min   -2.040000e+06    -2.570000e+02 -4.000000e+00\n",
            "25%    5.089800e+02     1.000000e+00  3.100000e+01\n",
            "50%    1.834980e+03     1.000000e+00  8.200000e+01\n",
            "75%    1.375980e+04     1.000000e+00  1.460000e+02\n",
            "max    2.040000e+06     1.992000e+03  8.320000e+02\n",
            "\n",
            "CustID                0\n",
            "status                0\n",
            "Campaign_Exec_Date    0\n",
            "Campaign_Channel      0\n",
            "dtype: int64\n",
            "CustID                 0\n",
            "Gender            137654\n",
            "Marital_Status    434126\n",
            "Pincode             9872\n",
            "State               9940\n",
            "dtype: int64\n",
            "CustID                            0\n",
            "ItemDesc                       9866\n",
            "MerchCategoryDescription       9866\n",
            "MerchClassDescription         11835\n",
            "MerchGroupDescription         11835\n",
            "SaleValue                         9\n",
            "OrderedQuantity                   0\n",
            "OrderDate                         0\n",
            "ReturnFlag                  1548154\n",
            "SalesChannelCode                  0\n",
            "Ecom_BnM_Indicator                0\n",
            "StoreID                          19\n",
            "StoreCode                         3\n",
            "StoreCity                    125124\n",
            "StoreState                   182927\n",
            "StorePincode                 182927\n",
            "dtype: int64\n"
          ]
        }
      ],
      "source": [
        "# Step 1: Load Data\n",
        "campaign_df = pd.read_csv('/content/drive/MyDrive/Colab Notebooks/wetransfer_campaign_data-csv_2024-04-13_0433/Campaign_Data.csv')\n",
        "customer_master_df = pd.read_csv('/content/drive/MyDrive/Colab Notebooks/wetransfer_campaign_data-csv_2024-04-13_0433/Customer_Master_Data.csv')\n",
        "customer_transactions_df = pd.read_csv('/content/drive/MyDrive/Colab Notebooks/wetransfer_campaign_data-csv_2024-04-13_0433/Customer_Transaction_Data.csv')\n",
        "\n",
        "print(campaign_df.head())\n",
        "print(customer_master_df.head())\n",
        "print(customer_transactions_df.head())\n",
        "\n",
        "print()\n",
        "print(campaign_df.info())\n",
        "print(customer_master_df.info())\n",
        "print(customer_transactions_df.info())\n",
        "\n",
        "print()\n",
        "print(campaign_df.describe())\n",
        "print(customer_master_df.describe())\n",
        "print(customer_transactions_df.describe())\n",
        "\n",
        "print()\n",
        "print(campaign_df.isnull().sum())\n",
        "print(customer_master_df.isnull().sum())\n",
        "print(customer_transactions_df.isnull().sum())"
      ]
    },
    {
      "cell_type": "code",
      "source": [
        "print(campaign_df.columns)\n",
        "print()\n",
        "\n",
        "print(customer_master_df.columns)\n",
        "print()\n",
        "\n",
        "print(customer_transactions_df.columns)"
      ],
      "metadata": {
        "colab": {
          "base_uri": "https://localhost:8080/"
        },
        "id": "R8yWKgJVMvZk",
        "outputId": "af17b2dc-dadc-4f95-eb3c-b8884fcb9443"
      },
      "execution_count": 4,
      "outputs": [
        {
          "output_type": "stream",
          "name": "stdout",
          "text": [
            "Index(['CustID', 'status', 'Campaign_Exec_Date', 'Campaign_Channel'], dtype='object')\n",
            "\n",
            "Index(['CustID', 'Gender', 'Marital_Status', 'Pincode', 'State'], dtype='object')\n",
            "\n",
            "Index(['CustID', 'ItemDesc', 'MerchCategoryDescription',\n",
            "       'MerchClassDescription', 'MerchGroupDescription', 'SaleValue',\n",
            "       'OrderedQuantity', 'OrderDate', 'ReturnFlag', 'SalesChannelCode',\n",
            "       'Ecom_BnM_Indicator', 'StoreID', 'StoreCode', 'StoreCity', 'StoreState',\n",
            "       'StorePincode'],\n",
            "      dtype='object')\n"
          ]
        }
      ]
    },
    {
      "cell_type": "code",
      "source": [
        "# Step 2: Data Preprocessing\n",
        "\n",
        "# Convert Campaign_Exec_Date to datetime\n",
        "campaign_df['Campaign_Exec_Date'] = pd.to_datetime(campaign_df['Campaign_Exec_Date'])\n",
        "\n",
        "# Ensure OrderDate is in datetime format\n",
        "customer_transactions_df['OrderDate'] = pd.to_datetime(customer_transactions_df['OrderDate'])\n",
        "print(customer_transactions_df['OrderDate'])"
      ],
      "metadata": {
        "colab": {
          "base_uri": "https://localhost:8080/"
        },
        "id": "BvSHy8TyM_ga",
        "outputId": "70118693-40ac-4a3c-dcd1-1641faf93628"
      },
      "execution_count": 5,
      "outputs": [
        {
          "output_type": "stream",
          "name": "stdout",
          "text": [
            "0         2019-01-01\n",
            "1         2019-01-01\n",
            "2         2019-01-01\n",
            "3         2019-01-01\n",
            "4         2019-01-01\n",
            "             ...    \n",
            "1625388   2021-12-31\n",
            "1625389   2021-12-31\n",
            "1625390   2021-12-31\n",
            "1625391   2021-12-31\n",
            "1625392   2021-12-31\n",
            "Name: OrderDate, Length: 1625393, dtype: datetime64[ns]\n"
          ]
        }
      ]
    },
    {
      "cell_type": "code",
      "source": [
        "# Pre-filter transactions within the possible date range for the entire campaign_df\n",
        "min_date = campaign_df['Campaign_Exec_Date'].min()\n",
        "max_date = campaign_df['Campaign_Exec_Date'].max() + timedelta(days=30)\n",
        "filtered_transactions = customer_transactions_df[\n",
        "    (customer_transactions_df['OrderDate'] > min_date) &\n",
        "    (customer_transactions_df['OrderDate'] <= max_date)\n",
        "]\n",
        "print(filtered_transactions)"
      ],
      "metadata": {
        "colab": {
          "base_uri": "https://localhost:8080/"
        },
        "id": "sHtiQhZdNPT6",
        "outputId": "f63b0f92-12ee-469d-fbaf-0bcbbadde040"
      },
      "execution_count": 6,
      "outputs": [
        {
          "output_type": "stream",
          "name": "stdout",
          "text": [
            "                                   CustID  \\\n",
            "21       JMtVRFte1te7MjRt7Vj7G8JVt1J8AMtt   \n",
            "22       JMtVRFte1te7MjRt7Vj7G8JVt1J8AMtt   \n",
            "23       117jRR7j1JH8t18G8MVMJje8jV1ARotj   \n",
            "24       RVMAFteoF87GJ181MJojGRMFJAFEojJG   \n",
            "25       JRR787HGERMjJ1EE1GVFJGHJ8MeHo8tH   \n",
            "...                                   ...   \n",
            "1617435  8jHVE7VReHVVe7JJVjFFjG8MARF8FR1E   \n",
            "1617436  jtMR7VV8AJMR78j7tjAJRH8tAjJEEER1   \n",
            "1617437  jtMR7VV8AJMR78j7tjAJRH8tAjJEEER1   \n",
            "1617438  jtMR7VV8AJMR78j7tjAJRH8tAjJEEER1   \n",
            "1617439  jtMR7VV8AJMR78j7tjAJRH8tAjJEEER1   \n",
            "\n",
            "                                         ItemDesc  \\\n",
            "21                    Handling charges for repair   \n",
            "22          SAMSUNG REF FF 465L RT47K6358SL/TL 3S   \n",
            "23                   LG INV/AC 1.5T KS-Q18ENXA 3S   \n",
            "24                     APPLE iPhone XR 64GB Black   \n",
            "25       CROMA Sync&Chrg MicroUSB CA2270 W2627Blk   \n",
            "...                                           ...   \n",
            "1617435   Croma BT Headphone CREEH1904sHPA4 Black   \n",
            "1617436             SONY BTNC Headphone CH710 BLK   \n",
            "1617437     SANDISK ultra Dual drive Type C 32 GB   \n",
            "1617438            SONY BTNC Headphone CH710 BLUE   \n",
            "1617439          SanDisk Ultra Flair USB 3.0 32GB   \n",
            "\n",
            "                         MerchCategoryDescription      MerchClassDescription  \\\n",
            "21                    Handling charges for repair       Installation Charges   \n",
            "22          SAMSUNG REF FF 465L RT47K6358SL/TL 3S              Refrigerators   \n",
            "23                   LG INV/AC 1.5T KS-Q18ENXA 3S           Air Conditioners   \n",
            "24                     APPLE iPhone XR 64GB Black    Smart Phones (OS Based)   \n",
            "25       CROMA Sync&Chrg MicroUSB CA2270 W2627Blk  Phones Mobile Accessories   \n",
            "...                                           ...                        ...   \n",
            "1617435   Croma BT Headphone CREEH1904sHPA4 Black       Earphones/Headphones   \n",
            "1617436             SONY BTNC Headphone CH710 BLK       Earphones/Headphones   \n",
            "1617437     SANDISK ultra Dual drive Type C 32 GB  Phones Mobile Accessories   \n",
            "1617438            SONY BTNC Headphone CH710 BLUE       Earphones/Headphones   \n",
            "1617439          SanDisk Ultra Flair USB 3.0 32GB              Storage Media   \n",
            "\n",
            "         MerchGroupDescription  SaleValue  OrderedQuantity  OrderDate  \\\n",
            "21                      Charge    -714.00               -1 2019-01-02   \n",
            "22            Large Appliances  -48439.80               -1 2019-01-02   \n",
            "23            Large Appliances  -37729.80               -1 2019-01-02   \n",
            "24               Communication   50898.00                1 2019-01-02   \n",
            "25               Communication     406.98                1 2019-01-02   \n",
            "...                        ...        ...              ...        ...   \n",
            "1617435          Entertainment     967.98                1 2021-03-06   \n",
            "1617436          Entertainment    8149.80                1 2021-03-06   \n",
            "1617437          Communication     712.98                1 2021-03-06   \n",
            "1617438          Entertainment    8149.80                1 2021-03-06   \n",
            "1617439  Computers Peripherals     498.78                1 2021-03-06   \n",
            "\n",
            "        ReturnFlag SalesChannelCode Ecom_BnM_Indicator  StoreID StoreCode  \\\n",
            "21             NaN               RS                B&M     24.0      A032   \n",
            "22             NaN               RS                B&M     24.0      A032   \n",
            "23             NaN               RS                B&M     29.0      A037   \n",
            "24             NaN               RS                B&M      6.0      A007   \n",
            "25             NaN               RS                B&M     30.0      A038   \n",
            "...            ...              ...                ...      ...       ...   \n",
            "1617435        NaN               RS                B&M    628.0      A329   \n",
            "1617436        NaN               RS                B&M    663.0      A340   \n",
            "1617437        NaN               RS                B&M    663.0      A340   \n",
            "1617438        NaN               RS                B&M    663.0      A340   \n",
            "1617439        NaN               RS                B&M    663.0      A340   \n",
            "\n",
            "         StoreCity   StoreState StorePincode  \n",
            "21       New Delhi    Delhi NCR       110007  \n",
            "22       New Delhi    Delhi NCR       110007  \n",
            "23         Chennai   Tamil Nadu       600040  \n",
            "24            Pune  Maharashtra       411013  \n",
            "25            Pune  Maharashtra       411018  \n",
            "...            ...          ...          ...  \n",
            "1617435  New Delhi    Delhi NCR       110017  \n",
            "1617436    Chennai   Tamil Nadu       600020  \n",
            "1617437    Chennai   Tamil Nadu       600020  \n",
            "1617438    Chennai   Tamil Nadu       600020  \n",
            "1617439    Chennai   Tamil Nadu       600020  \n",
            "\n",
            "[833409 rows x 16 columns]\n"
          ]
        }
      ]
    },
    {
      "cell_type": "code",
      "source": [
        "# Create a dictionary to store transactions for each customer\n",
        "cust_trans_dict = {}\n",
        "for _, row in filtered_transactions.iterrows():\n",
        "    cust_id = row['CustID']\n",
        "    order_date = row['OrderDate']\n",
        "    if cust_id not in cust_trans_dict:\n",
        "        cust_trans_dict[cust_id] = []\n",
        "    cust_trans_dict[cust_id].append(order_date)\n",
        "print(cust_trans_dict)"
      ],
      "metadata": {
        "colab": {
          "base_uri": "https://localhost:8080/"
        },
        "id": "YchFg6ViNeTF",
        "outputId": "e12c4439-703e-42c8-fefb-b25ddfc872fa"
      },
      "execution_count": 7,
      "outputs": [
        {
          "output_type": "stream",
          "name": "stderr",
          "text": [
            "IOPub data rate exceeded.\n",
            "The notebook server will temporarily stop sending output\n",
            "to the client in order to avoid crashing it.\n",
            "To change this limit, set the config variable\n",
            "`--NotebookApp.iopub_data_rate_limit`.\n",
            "\n",
            "Current values:\n",
            "NotebookApp.iopub_data_rate_limit=1000000.0 (bytes/sec)\n",
            "NotebookApp.rate_limit_window=3.0 (secs)\n",
            "\n"
          ]
        }
      ]
    },
    {
      "cell_type": "code",
      "source": [
        "print(len(cust_trans_dict))"
      ],
      "metadata": {
        "colab": {
          "base_uri": "https://localhost:8080/"
        },
        "id": "CmV7AxYYOkic",
        "outputId": "0d86968c-bee9-4159-d960-06b6c66d6499"
      },
      "execution_count": 8,
      "outputs": [
        {
          "output_type": "stream",
          "name": "stdout",
          "text": [
            "276938\n"
          ]
        }
      ]
    },
    {
      "cell_type": "code",
      "source": [
        "# Create Outcome Variable using the pre-processed data\n",
        "def create_outcome(cust_id, campaign_date):\n",
        "    if cust_id in cust_trans_dict:\n",
        "        end_date = campaign_date + timedelta(days=30)\n",
        "        for trans_date in cust_trans_dict[cust_id]:\n",
        "            if campaign_date < trans_date <= end_date:\n",
        "                return 1\n",
        "    return 0\n",
        "\n",
        "campaign_df['Outcome'] = campaign_df.apply(\n",
        "    lambda row: create_outcome(row['CustID'], row['Campaign_Exec_Date']), axis=1\n",
        ")\n",
        "\n",
        "print(campaign_df.head())\n",
        "print(campaign_df['Outcome'].value_counts())"
      ],
      "metadata": {
        "colab": {
          "base_uri": "https://localhost:8080/"
        },
        "id": "Wjj-cz9WOxlz",
        "outputId": "d333dd48-cec2-4f46-e43c-b85521b6bca8"
      },
      "execution_count": 9,
      "outputs": [
        {
          "output_type": "stream",
          "name": "stdout",
          "text": [
            "                             CustID     status Campaign_Exec_Date  \\\n",
            "0  11111J11RREFG1VoGo1FejtGEVV88JtM     viewed         2019-05-28   \n",
            "1  11111J11RREFG1VoGo1FejtGEVV88JtM  delivered         2019-05-29   \n",
            "2  11111J11RREFG1VoGo1FejtGEVV88JtM  delivered         2019-05-30   \n",
            "3  11111J11RREFG1VoGo1FejtGEVV88JtM  delivered         2019-06-03   \n",
            "4  11111J11RREFG1VoGo1FejtGEVV88JtM  delivered         2019-06-04   \n",
            "\n",
            "  Campaign_Channel  Outcome  \n",
            "0            Email        0  \n",
            "1            Email        0  \n",
            "2            Email        0  \n",
            "3            Email        0  \n",
            "4            Email        0  \n",
            "Outcome\n",
            "0    10685142\n",
            "1      227450\n",
            "Name: count, dtype: int64\n"
          ]
        }
      ]
    },
    {
      "cell_type": "code",
      "source": [
        "# Precompute transaction aggregates within different periods\n",
        "def aggregate_transactions(transactions, period_months):\n",
        "    transactions['Months_Prior'] = ((transactions['OrderDate'].max() - transactions['OrderDate']) / np.timedelta64(1, 'M')).astype(int)\n",
        "    agg_transactions = transactions[transactions['Months_Prior'] <= period_months].groupby('CustID').agg(\n",
        "        transaction_count=('OrderDate', 'count'),\n",
        "        transaction_value=('SaleValue', 'sum')\n",
        "    ).reset_index()\n",
        "    return agg_transactions\n",
        "\n",
        "# Aggregate transactions for the last 3, 6, and 12 months\n",
        "agg_3_months = aggregate_transactions(customer_transactions_df, 3)\n",
        "agg_6_months = aggregate_transactions(customer_transactions_df, 6)\n",
        "agg_12_months = aggregate_transactions(customer_transactions_df, 12)\n",
        "\n",
        "# Rename columns to avoid conflicts during merge\n",
        "agg_3_months.rename(columns={'transaction_count': 'Transactions_Last_3_Months', 'transaction_value': 'Transaction_Value_Last_3_Months'}, inplace=True)\n",
        "agg_6_months.rename(columns={'transaction_count': 'Transactions_Last_6_Months', 'transaction_value': 'Transaction_Value_Last_6_Months'}, inplace=True)\n",
        "agg_12_months.rename(columns={'transaction_count': 'Transactions_Last_12_Months', 'transaction_value': 'Transaction_Value_Last_12_Months'}, inplace=True)\n",
        "\n",
        "print(agg_3_months.head())\n",
        "print(agg_6_months.head())\n",
        "print(agg_12_months.head())"
      ],
      "metadata": {
        "colab": {
          "base_uri": "https://localhost:8080/"
        },
        "id": "Fr9uZlaBPq5x",
        "outputId": "5786eaea-ec5b-419c-fb34-f41c69a1eaad"
      },
      "execution_count": 10,
      "outputs": [
        {
          "output_type": "stream",
          "name": "stdout",
          "text": [
            "                             CustID  Transactions_Last_3_Months  \\\n",
            "0  11111eEGRAAotVot7etA7JGJ78FARFHo                           1   \n",
            "1  1111JFGMjeMtFoJRREtRE1VH1EooMRtA                           1   \n",
            "2  1111ReVAoMRMGFRRVjoJHMEJ1teVGjFJ                           3   \n",
            "3  1111jHtt8FAoGj8eEtG1HRVRoG1RFeR1                           2   \n",
            "4  1111joeRMVtH8JMtHVEo8jRo1oARMR17                           1   \n",
            "\n",
            "   Transaction_Value_Last_3_Months  \n",
            "0                         2038.980  \n",
            "1                          115.311  \n",
            "2                        34168.980  \n",
            "3                         3814.800  \n",
            "4                        16283.484  \n",
            "                             CustID  Transactions_Last_6_Months  \\\n",
            "0  11111eEGRAAotVot7etA7JGJ78FARFHo                           1   \n",
            "1  1111JFGMjeMtFoJRREtRE1VH1EooMRtA                           1   \n",
            "2  1111ReVAoMRMGFRRVjoJHMEJ1teVGjFJ                           3   \n",
            "3  1111RtJ17H1FAVJR7HAo8ttGoGHF7GAH                           1   \n",
            "4  1111jAH1JGtRFGtR7jGHMMRGe1GjVMEV                           1   \n",
            "\n",
            "   Transaction_Value_Last_6_Months  \n",
            "0                         2038.980  \n",
            "1                          115.311  \n",
            "2                        34168.980  \n",
            "3                          457.980  \n",
            "4                        40275.312  \n",
            "                             CustID  Transactions_Last_12_Months  \\\n",
            "0  11111eEGRAAotVot7etA7JGJ78FARFHo                            1   \n",
            "1  1111JFGMjeMtFoJRREtRE1VH1EooMRtA                            1   \n",
            "2  1111ReVAoMRMGFRRVjoJHMEJ1teVGjFJ                            5   \n",
            "3  1111RtJ17H1FAVJR7HAo8ttGoGHF7GAH                            1   \n",
            "4  1111jAH1JGtRFGtR7jGHMMRGe1GjVMEV                            1   \n",
            "\n",
            "   Transaction_Value_Last_12_Months  \n",
            "0                          2038.980  \n",
            "1                           115.311  \n",
            "2                         64766.940  \n",
            "3                           457.980  \n",
            "4                         40275.312  \n"
          ]
        }
      ]
    },
    {
      "cell_type": "code",
      "source": [
        "# Merge the dataframes\n",
        "merged_df = campaign_df.merge(customer_master_df, on='CustID', how='left')\n",
        "merged_df = merged_df.dropna()  # Optionally, handle missing values\n",
        "\n",
        "print(merged_df.info())\n"
      ],
      "metadata": {
        "colab": {
          "base_uri": "https://localhost:8080/"
        },
        "id": "V0BYmZYfVOf9",
        "outputId": "5de90c50-847f-4aa3-a7dd-9e056c422a98"
      },
      "execution_count": 11,
      "outputs": [
        {
          "output_type": "stream",
          "name": "stdout",
          "text": [
            "<class 'pandas.core.frame.DataFrame'>\n",
            "Index: 1385179 entries, 883 to 10912157\n",
            "Data columns (total 9 columns):\n",
            " #   Column              Non-Null Count    Dtype         \n",
            "---  ------              --------------    -----         \n",
            " 0   CustID              1385179 non-null  object        \n",
            " 1   status              1385179 non-null  object        \n",
            " 2   Campaign_Exec_Date  1385179 non-null  datetime64[ns]\n",
            " 3   Campaign_Channel    1385179 non-null  object        \n",
            " 4   Outcome             1385179 non-null  int64         \n",
            " 5   Gender              1385179 non-null  object        \n",
            " 6   Marital_Status      1385179 non-null  object        \n",
            " 7   Pincode             1385179 non-null  object        \n",
            " 8   State               1385179 non-null  object        \n",
            "dtypes: datetime64[ns](1), int64(1), object(7)\n",
            "memory usage: 105.7+ MB\n",
            "None\n"
          ]
        }
      ]
    },
    {
      "cell_type": "code",
      "source": [
        "print(merged_df.columns)"
      ],
      "metadata": {
        "colab": {
          "base_uri": "https://localhost:8080/"
        },
        "id": "VUR3m3GbgRHC",
        "outputId": "48b7e9bf-716c-4911-f7e5-34d93a0f4a65"
      },
      "execution_count": 12,
      "outputs": [
        {
          "output_type": "stream",
          "name": "stdout",
          "text": [
            "Index(['CustID', 'status', 'Campaign_Exec_Date', 'Campaign_Channel', 'Outcome',\n",
            "       'Gender', 'Marital_Status', 'Pincode', 'State'],\n",
            "      dtype='object')\n"
          ]
        }
      ]
    },
    {
      "cell_type": "code",
      "source": [
        "# Encode categorical variables using one-hot encoding, excluding 'Pincode' to avoid crashing\n",
        "categorical_columns = ['Gender', 'Marital_Status', 'Campaign_Channel', 'status', 'State']\n",
        "merged_df = pd.get_dummies(merged_df, columns=categorical_columns, drop_first=True)\n",
        "\n",
        "print(merged_df.head())\n"
      ],
      "metadata": {
        "colab": {
          "base_uri": "https://localhost:8080/"
        },
        "id": "JcBLOOmTf8C_",
        "outputId": "8f0cf0c3-59d0-46c7-d2ed-12968cca518b"
      },
      "execution_count": 13,
      "outputs": [
        {
          "output_type": "stream",
          "name": "stdout",
          "text": [
            "                               CustID Campaign_Exec_Date  Outcome   Pincode  \\\n",
            "883  1118FFMGVt1eRoF7jFeA7Ft1GFFHFAEG         2019-12-25        0  403507.0   \n",
            "884  1118FFMGVt1eRoF7jFeA7Ft1GFFHFAEG         2020-11-25        0  403507.0   \n",
            "885  1118FFMGVt1eRoF7jFeA7Ft1GFFHFAEG         2020-11-28        0  403507.0   \n",
            "886  1118jEVVjee8FJF118JAARt8Ejoj1toj         2019-12-24        0  411007.0   \n",
            "887  1118jEVVjee8FJF118JAARt8Ejoj1toj         2020-11-28        1  411007.0   \n",
            "\n",
            "     Gender_Male  Gender_Transgender  Marital_Status_Unmarried  \\\n",
            "883        False               False                     False   \n",
            "884        False               False                     False   \n",
            "885        False               False                     False   \n",
            "886        False               False                     False   \n",
            "887        False               False                     False   \n",
            "\n",
            "     Campaign_Channel_SMS  status_clicked  status_delivered  ...  \\\n",
            "883                  True           False              True  ...   \n",
            "884                  True            True             False  ...   \n",
            "885                  True           False              True  ...   \n",
            "886                  True           False              True  ...   \n",
            "887                  True           False              True  ...   \n",
            "\n",
            "     State_Odisha  State_Pondicherry  State_Punjab  State_Rajasthan  \\\n",
            "883         False              False         False            False   \n",
            "884         False              False         False            False   \n",
            "885         False              False         False            False   \n",
            "886         False              False         False            False   \n",
            "887         False              False         False            False   \n",
            "\n",
            "     State_Sikkim  State_Tamil Nadu  State_Telangana  State_Uttar Pradesh  \\\n",
            "883         False             False            False                False   \n",
            "884         False             False            False                False   \n",
            "885         False             False            False                False   \n",
            "886         False             False            False                False   \n",
            "887         False             False            False                False   \n",
            "\n",
            "     State_Uttarakhand  State_West Bengal  \n",
            "883              False              False  \n",
            "884              False              False  \n",
            "885              False              False  \n",
            "886              False              False  \n",
            "887              False              False  \n",
            "\n",
            "[5 rows x 42 columns]\n"
          ]
        }
      ]
    },
    {
      "cell_type": "code",
      "source": [
        "print(merged_df.columns)"
      ],
      "metadata": {
        "colab": {
          "base_uri": "https://localhost:8080/"
        },
        "id": "TNQKc52vfGyu",
        "outputId": "85c3c383-e696-467d-df1a-aa410b17ceda"
      },
      "execution_count": 14,
      "outputs": [
        {
          "output_type": "stream",
          "name": "stdout",
          "text": [
            "Index(['CustID', 'Campaign_Exec_Date', 'Outcome', 'Pincode', 'Gender_Male',\n",
            "       'Gender_Transgender', 'Marital_Status_Unmarried',\n",
            "       'Campaign_Channel_SMS', 'status_clicked', 'status_delivered',\n",
            "       'status_viewed', 'State_Andhra Pradesh', 'State_Assam', 'State_Bihar',\n",
            "       'State_Chhatisgarh', 'State_Delhi', 'State_Diu & Daman', 'State_Goa',\n",
            "       'State_Gujarat', 'State_Gurugram', 'State_Haryana',\n",
            "       'State_Himachal Pradesh', 'State_Jammu & Kashmir',\n",
            "       'State_Jammu And Kashmir', 'State_Jharkhand', 'State_Karnataka',\n",
            "       'State_Keral', 'State_Leh Ladhak', 'State_Madhya Pradesh',\n",
            "       'State_Maharashtra', 'State_Meghalaya', 'State_Nagaland',\n",
            "       'State_Odisha', 'State_Pondicherry', 'State_Punjab', 'State_Rajasthan',\n",
            "       'State_Sikkim', 'State_Tamil Nadu', 'State_Telangana',\n",
            "       'State_Uttar Pradesh', 'State_Uttarakhand', 'State_West Bengal'],\n",
            "      dtype='object')\n"
          ]
        }
      ]
    },
    {
      "cell_type": "code",
      "source": [
        "print(merged_df.info())"
      ],
      "metadata": {
        "colab": {
          "base_uri": "https://localhost:8080/"
        },
        "id": "EO48mLgufJ_t",
        "outputId": "dd28bd7c-37ee-415e-fd04-789cd2a3b9be"
      },
      "execution_count": 15,
      "outputs": [
        {
          "output_type": "stream",
          "name": "stdout",
          "text": [
            "<class 'pandas.core.frame.DataFrame'>\n",
            "Index: 1385179 entries, 883 to 10912157\n",
            "Data columns (total 42 columns):\n",
            " #   Column                    Non-Null Count    Dtype         \n",
            "---  ------                    --------------    -----         \n",
            " 0   CustID                    1385179 non-null  object        \n",
            " 1   Campaign_Exec_Date        1385179 non-null  datetime64[ns]\n",
            " 2   Outcome                   1385179 non-null  int64         \n",
            " 3   Pincode                   1385179 non-null  object        \n",
            " 4   Gender_Male               1385179 non-null  bool          \n",
            " 5   Gender_Transgender        1385179 non-null  bool          \n",
            " 6   Marital_Status_Unmarried  1385179 non-null  bool          \n",
            " 7   Campaign_Channel_SMS      1385179 non-null  bool          \n",
            " 8   status_clicked            1385179 non-null  bool          \n",
            " 9   status_delivered          1385179 non-null  bool          \n",
            " 10  status_viewed             1385179 non-null  bool          \n",
            " 11  State_Andhra Pradesh      1385179 non-null  bool          \n",
            " 12  State_Assam               1385179 non-null  bool          \n",
            " 13  State_Bihar               1385179 non-null  bool          \n",
            " 14  State_Chhatisgarh         1385179 non-null  bool          \n",
            " 15  State_Delhi               1385179 non-null  bool          \n",
            " 16  State_Diu & Daman         1385179 non-null  bool          \n",
            " 17  State_Goa                 1385179 non-null  bool          \n",
            " 18  State_Gujarat             1385179 non-null  bool          \n",
            " 19  State_Gurugram            1385179 non-null  bool          \n",
            " 20  State_Haryana             1385179 non-null  bool          \n",
            " 21  State_Himachal Pradesh    1385179 non-null  bool          \n",
            " 22  State_Jammu & Kashmir     1385179 non-null  bool          \n",
            " 23  State_Jammu And Kashmir   1385179 non-null  bool          \n",
            " 24  State_Jharkhand           1385179 non-null  bool          \n",
            " 25  State_Karnataka           1385179 non-null  bool          \n",
            " 26  State_Keral               1385179 non-null  bool          \n",
            " 27  State_Leh Ladhak          1385179 non-null  bool          \n",
            " 28  State_Madhya Pradesh      1385179 non-null  bool          \n",
            " 29  State_Maharashtra         1385179 non-null  bool          \n",
            " 30  State_Meghalaya           1385179 non-null  bool          \n",
            " 31  State_Nagaland            1385179 non-null  bool          \n",
            " 32  State_Odisha              1385179 non-null  bool          \n",
            " 33  State_Pondicherry         1385179 non-null  bool          \n",
            " 34  State_Punjab              1385179 non-null  bool          \n",
            " 35  State_Rajasthan           1385179 non-null  bool          \n",
            " 36  State_Sikkim              1385179 non-null  bool          \n",
            " 37  State_Tamil Nadu          1385179 non-null  bool          \n",
            " 38  State_Telangana           1385179 non-null  bool          \n",
            " 39  State_Uttar Pradesh       1385179 non-null  bool          \n",
            " 40  State_Uttarakhand         1385179 non-null  bool          \n",
            " 41  State_West Bengal         1385179 non-null  bool          \n",
            "dtypes: bool(38), datetime64[ns](1), int64(1), object(2)\n",
            "memory usage: 103.0+ MB\n",
            "None\n"
          ]
        }
      ]
    },
    {
      "cell_type": "code",
      "source": [
        "# Define features and target variable\n",
        "X = merged_df.drop(columns=['Outcome', 'CustID', 'Campaign_Exec_Date'])\n",
        "y = merged_df['Outcome']"
      ],
      "metadata": {
        "id": "lZcuS_Coc3NS"
      },
      "execution_count": 16,
      "outputs": []
    },
    {
      "cell_type": "code",
      "source": [
        "print(X.head())\n",
        "print(y.head())"
      ],
      "metadata": {
        "colab": {
          "base_uri": "https://localhost:8080/"
        },
        "id": "xQeXZAknc9Rk",
        "outputId": "ab40b186-fd5a-4ea8-cd75-95449cb529de"
      },
      "execution_count": 17,
      "outputs": [
        {
          "output_type": "stream",
          "name": "stdout",
          "text": [
            "      Pincode  Gender_Male  Gender_Transgender  Marital_Status_Unmarried  \\\n",
            "883  403507.0        False               False                     False   \n",
            "884  403507.0        False               False                     False   \n",
            "885  403507.0        False               False                     False   \n",
            "886  411007.0        False               False                     False   \n",
            "887  411007.0        False               False                     False   \n",
            "\n",
            "     Campaign_Channel_SMS  status_clicked  status_delivered  status_viewed  \\\n",
            "883                  True           False              True          False   \n",
            "884                  True            True             False          False   \n",
            "885                  True           False              True          False   \n",
            "886                  True           False              True          False   \n",
            "887                  True           False              True          False   \n",
            "\n",
            "     State_Andhra Pradesh  State_Assam  ...  State_Odisha  State_Pondicherry  \\\n",
            "883                 False        False  ...         False              False   \n",
            "884                 False        False  ...         False              False   \n",
            "885                 False        False  ...         False              False   \n",
            "886                 False        False  ...         False              False   \n",
            "887                 False        False  ...         False              False   \n",
            "\n",
            "     State_Punjab  State_Rajasthan  State_Sikkim  State_Tamil Nadu  \\\n",
            "883         False            False         False             False   \n",
            "884         False            False         False             False   \n",
            "885         False            False         False             False   \n",
            "886         False            False         False             False   \n",
            "887         False            False         False             False   \n",
            "\n",
            "     State_Telangana  State_Uttar Pradesh  State_Uttarakhand  \\\n",
            "883            False                False              False   \n",
            "884            False                False              False   \n",
            "885            False                False              False   \n",
            "886            False                False              False   \n",
            "887            False                False              False   \n",
            "\n",
            "     State_West Bengal  \n",
            "883              False  \n",
            "884              False  \n",
            "885              False  \n",
            "886              False  \n",
            "887              False  \n",
            "\n",
            "[5 rows x 39 columns]\n",
            "883    0\n",
            "884    0\n",
            "885    0\n",
            "886    0\n",
            "887    1\n",
            "Name: Outcome, dtype: int64\n"
          ]
        }
      ]
    },
    {
      "cell_type": "code",
      "source": [
        "print(X.info())"
      ],
      "metadata": {
        "colab": {
          "base_uri": "https://localhost:8080/"
        },
        "id": "wNteEzDIfVhR",
        "outputId": "edf14db2-06b7-43cd-d920-dff1e3ebd2e8"
      },
      "execution_count": 18,
      "outputs": [
        {
          "output_type": "stream",
          "name": "stdout",
          "text": [
            "<class 'pandas.core.frame.DataFrame'>\n",
            "Index: 1385179 entries, 883 to 10912157\n",
            "Data columns (total 39 columns):\n",
            " #   Column                    Non-Null Count    Dtype \n",
            "---  ------                    --------------    ----- \n",
            " 0   Pincode                   1385179 non-null  object\n",
            " 1   Gender_Male               1385179 non-null  bool  \n",
            " 2   Gender_Transgender        1385179 non-null  bool  \n",
            " 3   Marital_Status_Unmarried  1385179 non-null  bool  \n",
            " 4   Campaign_Channel_SMS      1385179 non-null  bool  \n",
            " 5   status_clicked            1385179 non-null  bool  \n",
            " 6   status_delivered          1385179 non-null  bool  \n",
            " 7   status_viewed             1385179 non-null  bool  \n",
            " 8   State_Andhra Pradesh      1385179 non-null  bool  \n",
            " 9   State_Assam               1385179 non-null  bool  \n",
            " 10  State_Bihar               1385179 non-null  bool  \n",
            " 11  State_Chhatisgarh         1385179 non-null  bool  \n",
            " 12  State_Delhi               1385179 non-null  bool  \n",
            " 13  State_Diu & Daman         1385179 non-null  bool  \n",
            " 14  State_Goa                 1385179 non-null  bool  \n",
            " 15  State_Gujarat             1385179 non-null  bool  \n",
            " 16  State_Gurugram            1385179 non-null  bool  \n",
            " 17  State_Haryana             1385179 non-null  bool  \n",
            " 18  State_Himachal Pradesh    1385179 non-null  bool  \n",
            " 19  State_Jammu & Kashmir     1385179 non-null  bool  \n",
            " 20  State_Jammu And Kashmir   1385179 non-null  bool  \n",
            " 21  State_Jharkhand           1385179 non-null  bool  \n",
            " 22  State_Karnataka           1385179 non-null  bool  \n",
            " 23  State_Keral               1385179 non-null  bool  \n",
            " 24  State_Leh Ladhak          1385179 non-null  bool  \n",
            " 25  State_Madhya Pradesh      1385179 non-null  bool  \n",
            " 26  State_Maharashtra         1385179 non-null  bool  \n",
            " 27  State_Meghalaya           1385179 non-null  bool  \n",
            " 28  State_Nagaland            1385179 non-null  bool  \n",
            " 29  State_Odisha              1385179 non-null  bool  \n",
            " 30  State_Pondicherry         1385179 non-null  bool  \n",
            " 31  State_Punjab              1385179 non-null  bool  \n",
            " 32  State_Rajasthan           1385179 non-null  bool  \n",
            " 33  State_Sikkim              1385179 non-null  bool  \n",
            " 34  State_Tamil Nadu          1385179 non-null  bool  \n",
            " 35  State_Telangana           1385179 non-null  bool  \n",
            " 36  State_Uttar Pradesh       1385179 non-null  bool  \n",
            " 37  State_Uttarakhand         1385179 non-null  bool  \n",
            " 38  State_West Bengal         1385179 non-null  bool  \n",
            "dtypes: bool(38), object(1)\n",
            "memory usage: 71.3+ MB\n",
            "None\n"
          ]
        }
      ]
    },
    {
      "cell_type": "code",
      "source": [
        "# Split the data into training and testing sets\n",
        "X_train, X_test, y_train, y_test = train_test_split(X, y, test_size=0.2, random_state=42)\n",
        "\n",
        "print(X_train.head())\n",
        "print(y_train.head())\n"
      ],
      "metadata": {
        "colab": {
          "base_uri": "https://localhost:8080/"
        },
        "id": "Lc6fjvLPdBHa",
        "outputId": "9982b38e-628d-4a8e-c608-25c4cf310375"
      },
      "execution_count": 19,
      "outputs": [
        {
          "output_type": "stream",
          "name": "stdout",
          "text": [
            "           Pincode  Gender_Male  Gender_Transgender  Marital_Status_Unmarried  \\\n",
            "3081505   395007.0        False               False                      True   \n",
            "6003515   121002.0        False               False                     False   \n",
            "716219    416001.0        False               False                     False   \n",
            "10729962    637303        False               False                     False   \n",
            "7759561   400701.0        False               False                     False   \n",
            "\n",
            "          Campaign_Channel_SMS  status_clicked  status_delivered  \\\n",
            "3081505                  False           False              True   \n",
            "6003515                  False           False             False   \n",
            "716219                   False           False             False   \n",
            "10729962                 False           False             False   \n",
            "7759561                  False           False             False   \n",
            "\n",
            "          status_viewed  State_Andhra Pradesh  State_Assam  ...  State_Odisha  \\\n",
            "3081505           False                 False        False  ...         False   \n",
            "6003515            True                 False        False  ...         False   \n",
            "716219             True                 False        False  ...         False   \n",
            "10729962           True                 False        False  ...         False   \n",
            "7759561            True                 False        False  ...         False   \n",
            "\n",
            "          State_Pondicherry  State_Punjab  State_Rajasthan  State_Sikkim  \\\n",
            "3081505               False         False            False         False   \n",
            "6003515               False         False            False         False   \n",
            "716219                False         False            False         False   \n",
            "10729962              False         False            False         False   \n",
            "7759561               False         False            False         False   \n",
            "\n",
            "          State_Tamil Nadu  State_Telangana  State_Uttar Pradesh  \\\n",
            "3081505              False            False                False   \n",
            "6003515              False            False                False   \n",
            "716219               False            False                False   \n",
            "10729962              True            False                False   \n",
            "7759561              False            False                False   \n",
            "\n",
            "          State_Uttarakhand  State_West Bengal  \n",
            "3081505               False              False  \n",
            "6003515               False              False  \n",
            "716219                False              False  \n",
            "10729962              False              False  \n",
            "7759561               False              False  \n",
            "\n",
            "[5 rows x 39 columns]\n",
            "3081505     0\n",
            "6003515     0\n",
            "716219      0\n",
            "10729962    0\n",
            "7759561     0\n",
            "Name: Outcome, dtype: int64\n"
          ]
        }
      ]
    },
    {
      "cell_type": "code",
      "source": [
        "print(X_train.info())"
      ],
      "metadata": {
        "colab": {
          "base_uri": "https://localhost:8080/"
        },
        "id": "Wr0dATN2falx",
        "outputId": "20a46beb-620e-4029-bea3-9e1dea8ea1a6"
      },
      "execution_count": 20,
      "outputs": [
        {
          "output_type": "stream",
          "name": "stdout",
          "text": [
            "<class 'pandas.core.frame.DataFrame'>\n",
            "Index: 1108143 entries, 3081505 to 755449\n",
            "Data columns (total 39 columns):\n",
            " #   Column                    Non-Null Count    Dtype \n",
            "---  ------                    --------------    ----- \n",
            " 0   Pincode                   1108143 non-null  object\n",
            " 1   Gender_Male               1108143 non-null  bool  \n",
            " 2   Gender_Transgender        1108143 non-null  bool  \n",
            " 3   Marital_Status_Unmarried  1108143 non-null  bool  \n",
            " 4   Campaign_Channel_SMS      1108143 non-null  bool  \n",
            " 5   status_clicked            1108143 non-null  bool  \n",
            " 6   status_delivered          1108143 non-null  bool  \n",
            " 7   status_viewed             1108143 non-null  bool  \n",
            " 8   State_Andhra Pradesh      1108143 non-null  bool  \n",
            " 9   State_Assam               1108143 non-null  bool  \n",
            " 10  State_Bihar               1108143 non-null  bool  \n",
            " 11  State_Chhatisgarh         1108143 non-null  bool  \n",
            " 12  State_Delhi               1108143 non-null  bool  \n",
            " 13  State_Diu & Daman         1108143 non-null  bool  \n",
            " 14  State_Goa                 1108143 non-null  bool  \n",
            " 15  State_Gujarat             1108143 non-null  bool  \n",
            " 16  State_Gurugram            1108143 non-null  bool  \n",
            " 17  State_Haryana             1108143 non-null  bool  \n",
            " 18  State_Himachal Pradesh    1108143 non-null  bool  \n",
            " 19  State_Jammu & Kashmir     1108143 non-null  bool  \n",
            " 20  State_Jammu And Kashmir   1108143 non-null  bool  \n",
            " 21  State_Jharkhand           1108143 non-null  bool  \n",
            " 22  State_Karnataka           1108143 non-null  bool  \n",
            " 23  State_Keral               1108143 non-null  bool  \n",
            " 24  State_Leh Ladhak          1108143 non-null  bool  \n",
            " 25  State_Madhya Pradesh      1108143 non-null  bool  \n",
            " 26  State_Maharashtra         1108143 non-null  bool  \n",
            " 27  State_Meghalaya           1108143 non-null  bool  \n",
            " 28  State_Nagaland            1108143 non-null  bool  \n",
            " 29  State_Odisha              1108143 non-null  bool  \n",
            " 30  State_Pondicherry         1108143 non-null  bool  \n",
            " 31  State_Punjab              1108143 non-null  bool  \n",
            " 32  State_Rajasthan           1108143 non-null  bool  \n",
            " 33  State_Sikkim              1108143 non-null  bool  \n",
            " 34  State_Tamil Nadu          1108143 non-null  bool  \n",
            " 35  State_Telangana           1108143 non-null  bool  \n",
            " 36  State_Uttar Pradesh       1108143 non-null  bool  \n",
            " 37  State_Uttarakhand         1108143 non-null  bool  \n",
            " 38  State_West Bengal         1108143 non-null  bool  \n",
            "dtypes: bool(38), object(1)\n",
            "memory usage: 57.1+ MB\n",
            "None\n"
          ]
        }
      ]
    },
    {
      "cell_type": "code",
      "source": [
        "# Train Random Forest model\n",
        "rf_model = RandomForestClassifier(random_state=42)\n",
        "rf_model.fit(X_train, y_train)\n",
        "rf_y_pred = rf_model.predict(X_test)"
      ],
      "metadata": {
        "id": "CZi4PEzbdLDR"
      },
      "execution_count": 21,
      "outputs": []
    },
    {
      "cell_type": "code",
      "source": [
        "print(rf_y_pred)"
      ],
      "metadata": {
        "colab": {
          "base_uri": "https://localhost:8080/"
        },
        "id": "xiHhYXOyiy33",
        "outputId": "04f6b1d4-4ed8-4b47-a6e4-a4da4186bdc8"
      },
      "execution_count": 22,
      "outputs": [
        {
          "output_type": "stream",
          "name": "stdout",
          "text": [
            "[0 0 0 ... 0 0 0]\n"
          ]
        }
      ]
    },
    {
      "cell_type": "code",
      "source": [
        "# Evaluate the model\n",
        "print(f\"Accuracy: {accuracy_score(y_test, rf_y_pred)}\")\n",
        "print(f\"Precision: {precision_score(y_test, rf_y_pred)}\")\n",
        "print(f\"Recall: {recall_score(y_test, rf_y_pred)}\")\n",
        "print(f\"ROC AUC: {roc_auc_score(y_test, rf_y_pred)}\")\n",
        "\n",
        "# Confusion matrix\n",
        "conf_matrix = confusion_matrix(y_test, rf_y_pred)\n",
        "sns.heatmap(conf_matrix, annot=True, fmt='d')\n",
        "plt.title('Confusion Matrix')\n",
        "plt.xlabel('Predicted')\n",
        "plt.ylabel('Actual')\n",
        "plt.show()"
      ],
      "metadata": {
        "colab": {
          "base_uri": "https://localhost:8080/",
          "height": 541
        },
        "id": "KhB0QvOKjXNV",
        "outputId": "d38ef10c-c58c-4ad3-fed8-ee17a9d63138"
      },
      "execution_count": 23,
      "outputs": [
        {
          "output_type": "stream",
          "name": "stdout",
          "text": [
            "Accuracy: 0.9814211871381336\n",
            "Precision: 0.05405405405405406\n",
            "Recall: 0.00039108330074305825\n",
            "ROC AUC: 0.5001311849598499\n"
          ]
        },
        {
          "output_type": "display_data",
          "data": {
            "text/plain": [
              "<Figure size 640x480 with 2 Axes>"
            ],
            "image/png": "[encoded data removed]"
          },
          "metadata": {}
        }
      ]
    },
    {
      "cell_type": "code",
      "source": [
        "# Convert Pincode to a numeric type\n",
        "merged_df['Pincode'] = pd.to_numeric(merged_df['Pincode'], errors='coerce')\n",
        "\n",
        "# Drop rows where Pincode conversion resulted in NaN\n",
        "merged_df = merged_df.dropna(subset=['Pincode'])\n",
        "\n",
        "print(merged_df.info())"
      ],
      "metadata": {
        "colab": {
          "base_uri": "https://localhost:8080/"
        },
        "id": "ckYI47ADkwTD",
        "outputId": "b8b42726-8688-4483-9114-3bc8d75affb9"
      },
      "execution_count": 25,
      "outputs": [
        {
          "output_type": "stream",
          "name": "stdout",
          "text": [
            "<class 'pandas.core.frame.DataFrame'>\n",
            "Index: 1385179 entries, 883 to 10912157\n",
            "Data columns (total 42 columns):\n",
            " #   Column                    Non-Null Count    Dtype         \n",
            "---  ------                    --------------    -----         \n",
            " 0   CustID                    1385179 non-null  object        \n",
            " 1   Campaign_Exec_Date        1385179 non-null  datetime64[ns]\n",
            " 2   Outcome                   1385179 non-null  int64         \n",
            " 3   Pincode                   1385179 non-null  float64       \n",
            " 4   Gender_Male               1385179 non-null  bool          \n",
            " 5   Gender_Transgender        1385179 non-null  bool          \n",
            " 6   Marital_Status_Unmarried  1385179 non-null  bool          \n",
            " 7   Campaign_Channel_SMS      1385179 non-null  bool          \n",
            " 8   status_clicked            1385179 non-null  bool          \n",
            " 9   status_delivered          1385179 non-null  bool          \n",
            " 10  status_viewed             1385179 non-null  bool          \n",
            " 11  State_Andhra Pradesh      1385179 non-null  bool          \n",
            " 12  State_Assam               1385179 non-null  bool          \n",
            " 13  State_Bihar               1385179 non-null  bool          \n",
            " 14  State_Chhatisgarh         1385179 non-null  bool          \n",
            " 15  State_Delhi               1385179 non-null  bool          \n",
            " 16  State_Diu & Daman         1385179 non-null  bool          \n",
            " 17  State_Goa                 1385179 non-null  bool          \n",
            " 18  State_Gujarat             1385179 non-null  bool          \n",
            " 19  State_Gurugram            1385179 non-null  bool          \n",
            " 20  State_Haryana             1385179 non-null  bool          \n",
            " 21  State_Himachal Pradesh    1385179 non-null  bool          \n",
            " 22  State_Jammu & Kashmir     1385179 non-null  bool          \n",
            " 23  State_Jammu And Kashmir   1385179 non-null  bool          \n",
            " 24  State_Jharkhand           1385179 non-null  bool          \n",
            " 25  State_Karnataka           1385179 non-null  bool          \n",
            " 26  State_Keral               1385179 non-null  bool          \n",
            " 27  State_Leh Ladhak          1385179 non-null  bool          \n",
            " 28  State_Madhya Pradesh      1385179 non-null  bool          \n",
            " 29  State_Maharashtra         1385179 non-null  bool          \n",
            " 30  State_Meghalaya           1385179 non-null  bool          \n",
            " 31  State_Nagaland            1385179 non-null  bool          \n",
            " 32  State_Odisha              1385179 non-null  bool          \n",
            " 33  State_Pondicherry         1385179 non-null  bool          \n",
            " 34  State_Punjab              1385179 non-null  bool          \n",
            " 35  State_Rajasthan           1385179 non-null  bool          \n",
            " 36  State_Sikkim              1385179 non-null  bool          \n",
            " 37  State_Tamil Nadu          1385179 non-null  bool          \n",
            " 38  State_Telangana           1385179 non-null  bool          \n",
            " 39  State_Uttar Pradesh       1385179 non-null  bool          \n",
            " 40  State_Uttarakhand         1385179 non-null  bool          \n",
            " 41  State_West Bengal         1385179 non-null  bool          \n",
            "dtypes: bool(38), datetime64[ns](1), float64(1), int64(1), object(1)\n",
            "memory usage: 103.0+ MB\n",
            "None\n"
          ]
        }
      ]
    },
    {
      "cell_type": "code",
      "source": [
        "print(X_train.info())"
      ],
      "metadata": {
        "colab": {
          "base_uri": "https://localhost:8080/"
        },
        "id": "0ZZ9wRVRms85",
        "outputId": "acb21f4b-1f37-4d75-b89e-f0bd12efdf50"
      },
      "execution_count": 29,
      "outputs": [
        {
          "output_type": "stream",
          "name": "stdout",
          "text": [
            "<class 'pandas.core.frame.DataFrame'>\n",
            "Index: 1108143 entries, 3081505 to 755449\n",
            "Data columns (total 39 columns):\n",
            " #   Column                    Non-Null Count    Dtype \n",
            "---  ------                    --------------    ----- \n",
            " 0   Pincode                   1108143 non-null  object\n",
            " 1   Gender_Male               1108143 non-null  bool  \n",
            " 2   Gender_Transgender        1108143 non-null  bool  \n",
            " 3   Marital_Status_Unmarried  1108143 non-null  bool  \n",
            " 4   Campaign_Channel_SMS      1108143 non-null  bool  \n",
            " 5   status_clicked            1108143 non-null  bool  \n",
            " 6   status_delivered          1108143 non-null  bool  \n",
            " 7   status_viewed             1108143 non-null  bool  \n",
            " 8   State_Andhra Pradesh      1108143 non-null  bool  \n",
            " 9   State_Assam               1108143 non-null  bool  \n",
            " 10  State_Bihar               1108143 non-null  bool  \n",
            " 11  State_Chhatisgarh         1108143 non-null  bool  \n",
            " 12  State_Delhi               1108143 non-null  bool  \n",
            " 13  State_Diu & Daman         1108143 non-null  bool  \n",
            " 14  State_Goa                 1108143 non-null  bool  \n",
            " 15  State_Gujarat             1108143 non-null  bool  \n",
            " 16  State_Gurugram            1108143 non-null  bool  \n",
            " 17  State_Haryana             1108143 non-null  bool  \n",
            " 18  State_Himachal Pradesh    1108143 non-null  bool  \n",
            " 19  State_Jammu & Kashmir     1108143 non-null  bool  \n",
            " 20  State_Jammu And Kashmir   1108143 non-null  bool  \n",
            " 21  State_Jharkhand           1108143 non-null  bool  \n",
            " 22  State_Karnataka           1108143 non-null  bool  \n",
            " 23  State_Keral               1108143 non-null  bool  \n",
            " 24  State_Leh Ladhak          1108143 non-null  bool  \n",
            " 25  State_Madhya Pradesh      1108143 non-null  bool  \n",
            " 26  State_Maharashtra         1108143 non-null  bool  \n",
            " 27  State_Meghalaya           1108143 non-null  bool  \n",
            " 28  State_Nagaland            1108143 non-null  bool  \n",
            " 29  State_Odisha              1108143 non-null  bool  \n",
            " 30  State_Pondicherry         1108143 non-null  bool  \n",
            " 31  State_Punjab              1108143 non-null  bool  \n",
            " 32  State_Rajasthan           1108143 non-null  bool  \n",
            " 33  State_Sikkim              1108143 non-null  bool  \n",
            " 34  State_Tamil Nadu          1108143 non-null  bool  \n",
            " 35  State_Telangana           1108143 non-null  bool  \n",
            " 36  State_Uttar Pradesh       1108143 non-null  bool  \n",
            " 37  State_Uttarakhand         1108143 non-null  bool  \n",
            " 38  State_West Bengal         1108143 non-null  bool  \n",
            "dtypes: bool(38), object(1)\n",
            "memory usage: 57.1+ MB\n",
            "None\n"
          ]
        }
      ]
    },
    {
      "cell_type": "code",
      "source": [
        "X_train['Pincode'] = pd.to_numeric(X_train['Pincode'], errors='coerce')\n",
        "\n",
        "# Drop rows where Pincode conversion resulted in NaN\n",
        "X_train = X_train.dropna(subset=['Pincode'])\n",
        "\n",
        "# Ensure Pincode is now of float64 type\n",
        "print(X_train.info())"
      ],
      "metadata": {
        "colab": {
          "base_uri": "https://localhost:8080/"
        },
        "id": "Xs0WOgCunDsU",
        "outputId": "53feaafb-ad3f-432c-ba7d-5bba0d9fca72"
      },
      "execution_count": 30,
      "outputs": [
        {
          "output_type": "stream",
          "name": "stdout",
          "text": [
            "<class 'pandas.core.frame.DataFrame'>\n",
            "Index: 1108143 entries, 3081505 to 755449\n",
            "Data columns (total 39 columns):\n",
            " #   Column                    Non-Null Count    Dtype  \n",
            "---  ------                    --------------    -----  \n",
            " 0   Pincode                   1108143 non-null  float64\n",
            " 1   Gender_Male               1108143 non-null  bool   \n",
            " 2   Gender_Transgender        1108143 non-null  bool   \n",
            " 3   Marital_Status_Unmarried  1108143 non-null  bool   \n",
            " 4   Campaign_Channel_SMS      1108143 non-null  bool   \n",
            " 5   status_clicked            1108143 non-null  bool   \n",
            " 6   status_delivered          1108143 non-null  bool   \n",
            " 7   status_viewed             1108143 non-null  bool   \n",
            " 8   State_Andhra Pradesh      1108143 non-null  bool   \n",
            " 9   State_Assam               1108143 non-null  bool   \n",
            " 10  State_Bihar               1108143 non-null  bool   \n",
            " 11  State_Chhatisgarh         1108143 non-null  bool   \n",
            " 12  State_Delhi               1108143 non-null  bool   \n",
            " 13  State_Diu & Daman         1108143 non-null  bool   \n",
            " 14  State_Goa                 1108143 non-null  bool   \n",
            " 15  State_Gujarat             1108143 non-null  bool   \n",
            " 16  State_Gurugram            1108143 non-null  bool   \n",
            " 17  State_Haryana             1108143 non-null  bool   \n",
            " 18  State_Himachal Pradesh    1108143 non-null  bool   \n",
            " 19  State_Jammu & Kashmir     1108143 non-null  bool   \n",
            " 20  State_Jammu And Kashmir   1108143 non-null  bool   \n",
            " 21  State_Jharkhand           1108143 non-null  bool   \n",
            " 22  State_Karnataka           1108143 non-null  bool   \n",
            " 23  State_Keral               1108143 non-null  bool   \n",
            " 24  State_Leh Ladhak          1108143 non-null  bool   \n",
            " 25  State_Madhya Pradesh      1108143 non-null  bool   \n",
            " 26  State_Maharashtra         1108143 non-null  bool   \n",
            " 27  State_Meghalaya           1108143 non-null  bool   \n",
            " 28  State_Nagaland            1108143 non-null  bool   \n",
            " 29  State_Odisha              1108143 non-null  bool   \n",
            " 30  State_Pondicherry         1108143 non-null  bool   \n",
            " 31  State_Punjab              1108143 non-null  bool   \n",
            " 32  State_Rajasthan           1108143 non-null  bool   \n",
            " 33  State_Sikkim              1108143 non-null  bool   \n",
            " 34  State_Tamil Nadu          1108143 non-null  bool   \n",
            " 35  State_Telangana           1108143 non-null  bool   \n",
            " 36  State_Uttar Pradesh       1108143 non-null  bool   \n",
            " 37  State_Uttarakhand         1108143 non-null  bool   \n",
            " 38  State_West Bengal         1108143 non-null  bool   \n",
            "dtypes: bool(38), float64(1)\n",
            "memory usage: 57.1 MB\n",
            "None\n"
          ]
        }
      ]
    },
    {
      "cell_type": "code",
      "source": [
        "print(X_test)"
      ],
      "metadata": {
        "colab": {
          "base_uri": "https://localhost:8080/"
        },
        "id": "yJ5Kav6Xnhao",
        "outputId": "56713009-17a9-4881-832d-e750d14e839b"
      },
      "execution_count": 33,
      "outputs": [
        {
          "output_type": "stream",
          "name": "stdout",
          "text": [
            "          Pincode  Gender_Male  Gender_Transgender  Marital_Status_Unmarried  \\\n",
            "7214866  500059.0        False               False                      True   \n",
            "5171060  500059.0        False               False                      True   \n",
            "4528030  400025.0        False               False                      True   \n",
            "7060993  110052.0         True               False                      True   \n",
            "9092721    560094        False               False                      True   \n",
            "...           ...          ...                 ...                       ...   \n",
            "7036116  201310.0        False               False                     False   \n",
            "5780243  411045.0        False               False                      True   \n",
            "1653095    395007        False               False                      True   \n",
            "8943878    580030        False               False                     False   \n",
            "9966850  390001.0        False               False                      True   \n",
            "\n",
            "         Campaign_Channel_SMS  status_clicked  status_delivered  \\\n",
            "7214866                 False           False              True   \n",
            "5171060                 False           False             False   \n",
            "4528030                 False           False              True   \n",
            "7060993                 False           False              True   \n",
            "9092721                 False           False              True   \n",
            "...                       ...             ...               ...   \n",
            "7036116                 False           False              True   \n",
            "5780243                 False           False             False   \n",
            "1653095                 False           False              True   \n",
            "8943878                  True           False              True   \n",
            "9966850                 False           False             False   \n",
            "\n",
            "         status_viewed  State_Andhra Pradesh  State_Assam  ...  State_Odisha  \\\n",
            "7214866          False                 False        False  ...         False   \n",
            "5171060           True                 False        False  ...         False   \n",
            "4528030          False                 False        False  ...         False   \n",
            "7060993          False                 False        False  ...         False   \n",
            "9092721          False                 False        False  ...         False   \n",
            "...                ...                   ...          ...  ...           ...   \n",
            "7036116          False                 False        False  ...         False   \n",
            "5780243           True                 False        False  ...         False   \n",
            "1653095          False                 False        False  ...         False   \n",
            "8943878          False                 False        False  ...         False   \n",
            "9966850           True                 False        False  ...         False   \n",
            "\n",
            "         State_Pondicherry  State_Punjab  State_Rajasthan  State_Sikkim  \\\n",
            "7214866              False         False            False         False   \n",
            "5171060              False         False            False         False   \n",
            "4528030              False         False            False         False   \n",
            "7060993              False         False            False         False   \n",
            "9092721              False         False            False         False   \n",
            "...                    ...           ...              ...           ...   \n",
            "7036116              False         False            False         False   \n",
            "5780243              False         False            False         False   \n",
            "1653095              False         False            False         False   \n",
            "8943878              False         False            False         False   \n",
            "9966850              False         False            False         False   \n",
            "\n",
            "         State_Tamil Nadu  State_Telangana  State_Uttar Pradesh  \\\n",
            "7214866             False             True                False   \n",
            "5171060             False             True                False   \n",
            "4528030             False            False                False   \n",
            "7060993             False            False                False   \n",
            "9092721             False            False                False   \n",
            "...                   ...              ...                  ...   \n",
            "7036116             False            False                 True   \n",
            "5780243             False            False                False   \n",
            "1653095             False            False                False   \n",
            "8943878             False            False                False   \n",
            "9966850             False            False                False   \n",
            "\n",
            "         State_Uttarakhand  State_West Bengal  \n",
            "7214866              False              False  \n",
            "5171060              False              False  \n",
            "4528030              False              False  \n",
            "7060993              False              False  \n",
            "9092721              False              False  \n",
            "...                    ...                ...  \n",
            "7036116              False              False  \n",
            "5780243              False              False  \n",
            "1653095              False              False  \n",
            "8943878              False              False  \n",
            "9966850              False              False  \n",
            "\n",
            "[277036 rows x 39 columns]\n"
          ]
        }
      ]
    },
    {
      "cell_type": "code",
      "source": [
        "print(X_test.dtypes)"
      ],
      "metadata": {
        "colab": {
          "base_uri": "https://localhost:8080/"
        },
        "id": "rBDHWEAWnmd5",
        "outputId": "990bd2be-62cc-47e1-891e-9a20fd5bb254"
      },
      "execution_count": 34,
      "outputs": [
        {
          "output_type": "stream",
          "name": "stdout",
          "text": [
            "Pincode                     object\n",
            "Gender_Male                   bool\n",
            "Gender_Transgender            bool\n",
            "Marital_Status_Unmarried      bool\n",
            "Campaign_Channel_SMS          bool\n",
            "status_clicked                bool\n",
            "status_delivered              bool\n",
            "status_viewed                 bool\n",
            "State_Andhra Pradesh          bool\n",
            "State_Assam                   bool\n",
            "State_Bihar                   bool\n",
            "State_Chhatisgarh             bool\n",
            "State_Delhi                   bool\n",
            "State_Diu & Daman             bool\n",
            "State_Goa                     bool\n",
            "State_Gujarat                 bool\n",
            "State_Gurugram                bool\n",
            "State_Haryana                 bool\n",
            "State_Himachal Pradesh        bool\n",
            "State_Jammu & Kashmir         bool\n",
            "State_Jammu And Kashmir       bool\n",
            "State_Jharkhand               bool\n",
            "State_Karnataka               bool\n",
            "State_Keral                   bool\n",
            "State_Leh Ladhak              bool\n",
            "State_Madhya Pradesh          bool\n",
            "State_Maharashtra             bool\n",
            "State_Meghalaya               bool\n",
            "State_Nagaland                bool\n",
            "State_Odisha                  bool\n",
            "State_Pondicherry             bool\n",
            "State_Punjab                  bool\n",
            "State_Rajasthan               bool\n",
            "State_Sikkim                  bool\n",
            "State_Tamil Nadu              bool\n",
            "State_Telangana               bool\n",
            "State_Uttar Pradesh           bool\n",
            "State_Uttarakhand             bool\n",
            "State_West Bengal             bool\n",
            "dtype: object\n"
          ]
        }
      ]
    },
    {
      "cell_type": "code",
      "source": [
        "X_test['Pincode'] = pd.to_numeric(X_test['Pincode'], errors='coerce')\n",
        "\n",
        "# Drop rows where Pincode conversion resulted in NaN\n",
        "X_test = X_test.dropna(subset=['Pincode'])\n",
        "\n",
        "# Ensure Pincode is now of float64 type\n",
        "print(X_test.info())"
      ],
      "metadata": {
        "colab": {
          "base_uri": "https://localhost:8080/"
        },
        "outputId": "bd64d521-71c5-4881-bcb9-00086d593cdb",
        "id": "ZPVjuI7_nwkM"
      },
      "execution_count": 35,
      "outputs": [
        {
          "output_type": "stream",
          "name": "stdout",
          "text": [
            "<class 'pandas.core.frame.DataFrame'>\n",
            "Index: 277036 entries, 7214866 to 9966850\n",
            "Data columns (total 39 columns):\n",
            " #   Column                    Non-Null Count   Dtype  \n",
            "---  ------                    --------------   -----  \n",
            " 0   Pincode                   277036 non-null  float64\n",
            " 1   Gender_Male               277036 non-null  bool   \n",
            " 2   Gender_Transgender        277036 non-null  bool   \n",
            " 3   Marital_Status_Unmarried  277036 non-null  bool   \n",
            " 4   Campaign_Channel_SMS      277036 non-null  bool   \n",
            " 5   status_clicked            277036 non-null  bool   \n",
            " 6   status_delivered          277036 non-null  bool   \n",
            " 7   status_viewed             277036 non-null  bool   \n",
            " 8   State_Andhra Pradesh      277036 non-null  bool   \n",
            " 9   State_Assam               277036 non-null  bool   \n",
            " 10  State_Bihar               277036 non-null  bool   \n",
            " 11  State_Chhatisgarh         277036 non-null  bool   \n",
            " 12  State_Delhi               277036 non-null  bool   \n",
            " 13  State_Diu & Daman         277036 non-null  bool   \n",
            " 14  State_Goa                 277036 non-null  bool   \n",
            " 15  State_Gujarat             277036 non-null  bool   \n",
            " 16  State_Gurugram            277036 non-null  bool   \n",
            " 17  State_Haryana             277036 non-null  bool   \n",
            " 18  State_Himachal Pradesh    277036 non-null  bool   \n",
            " 19  State_Jammu & Kashmir     277036 non-null  bool   \n",
            " 20  State_Jammu And Kashmir   277036 non-null  bool   \n",
            " 21  State_Jharkhand           277036 non-null  bool   \n",
            " 22  State_Karnataka           277036 non-null  bool   \n",
            " 23  State_Keral               277036 non-null  bool   \n",
            " 24  State_Leh Ladhak          277036 non-null  bool   \n",
            " 25  State_Madhya Pradesh      277036 non-null  bool   \n",
            " 26  State_Maharashtra         277036 non-null  bool   \n",
            " 27  State_Meghalaya           277036 non-null  bool   \n",
            " 28  State_Nagaland            277036 non-null  bool   \n",
            " 29  State_Odisha              277036 non-null  bool   \n",
            " 30  State_Pondicherry         277036 non-null  bool   \n",
            " 31  State_Punjab              277036 non-null  bool   \n",
            " 32  State_Rajasthan           277036 non-null  bool   \n",
            " 33  State_Sikkim              277036 non-null  bool   \n",
            " 34  State_Tamil Nadu          277036 non-null  bool   \n",
            " 35  State_Telangana           277036 non-null  bool   \n",
            " 36  State_Uttar Pradesh       277036 non-null  bool   \n",
            " 37  State_Uttarakhand         277036 non-null  bool   \n",
            " 38  State_West Bengal         277036 non-null  bool   \n",
            "dtypes: bool(38), float64(1)\n",
            "memory usage: 14.3 MB\n",
            "None\n"
          ]
        }
      ]
    },
    {
      "cell_type": "code",
      "source": [
        "# Train XGBoost model\n",
        "xgb_model = XGBClassifier(random_state=42, enable_categorical=True)\n",
        "xgb_model.fit(X_train, y_train)\n",
        "xgb_y_pred = xgb_model.predict(X_test)\n",
        "\n",
        "# Evaluate the model\n",
        "print(f\"Accuracy: {accuracy_score(y_test, xgb_y_pred)}\")\n",
        "print(f\"Precision: {precision_score(y_test, xgb_y_pred)}\")\n",
        "print(f\"Recall: {recall_score(y_test, xgb_y_pred)}\")\n",
        "print(f\"ROC AUC: {roc_auc_score(y_test, xgb_y_pred)}\")\n",
        "\n",
        "# Confusion matrix\n",
        "conf_matrix = confusion_matrix(y_test, xgb_y_pred)\n",
        "sns.heatmap(conf_matrix, annot=True, fmt='d')\n",
        "plt.title('Confusion Matrix')\n",
        "plt.xlabel('Predicted')\n",
        "plt.ylabel('Actual')\n",
        "plt.show()\n"
      ],
      "metadata": {
        "colab": {
          "base_uri": "https://localhost:8080/",
          "height": 576
        },
        "id": "KaBRb3xDjj7B",
        "outputId": "b833182e-d57b-4457-db77-9c017caeb184"
      },
      "execution_count": 36,
      "outputs": [
        {
          "output_type": "stream",
          "name": "stdout",
          "text": [
            "Accuracy: 0.9815403052310891\n",
            "Precision: 0.0\n"
          ]
        },
        {
          "output_type": "stream",
          "name": "stderr",
          "text": [
            "/usr/local/lib/python3.10/dist-packages/sklearn/metrics/_classification.py:1344: UndefinedMetricWarning: Precision is ill-defined and being set to 0.0 due to no predicted samples. Use `zero_division` parameter to control this behavior.\n",
            "  _warn_prf(average, modifier, msg_start, len(result))\n"
          ]
        },
        {
          "output_type": "stream",
          "name": "stdout",
          "text": [
            "Recall: 0.0\n",
            "ROC AUC: 0.5\n"
          ]
        },
        {
          "output_type": "display_data",
          "data": {
            "text/plain": [
              "<Figure size 640x480 with 2 Axes>"
            ],
            "image/png": "[encoded data removed]"
          },
          "metadata": {}
        }
      ]
    },
    {
      "cell_type": "code",
      "source": [
        "from sklearn.metrics import roc_curve, auc\n",
        "\n",
        "# Function to compute KS statistic\n",
        "def compute_ks_statistic(y_true, y_score):\n",
        "    fpr, tpr, thresholds = roc_curve(y_true, y_score)\n",
        "    ks = max(tpr - fpr)\n",
        "    return ks\n",
        "\n",
        "# Compute predicted probabilities for both models\n",
        "rf_y_score = rf_model.predict_proba(X_test)[:, 1]\n",
        "xgb_y_score = xgb_model.predict_proba(X_test)[:, 1]\n",
        "\n",
        "# Compute KS statistic\n",
        "rf_ks = compute_ks_statistic(y_test, rf_y_score)\n",
        "xgb_ks = compute_ks_statistic(y_test, xgb_y_score)\n",
        "\n",
        "print(f\"Random Forest KS Statistic: {rf_ks:.4f}\")\n",
        "print(f\"XGBoost KS Statistic: {xgb_ks:.4f}\")\n"
      ],
      "metadata": {
        "colab": {
          "base_uri": "https://localhost:8080/"
        },
        "id": "eHUeZNdjpPIA",
        "outputId": "f5d08c74-8100-4750-9088-3f99f8354e73"
      },
      "execution_count": 38,
      "outputs": [
        {
          "output_type": "stream",
          "name": "stdout",
          "text": [
            "Random Forest KS Statistic: 0.3182\n",
            "XGBoost KS Statistic: 0.2541\n"
          ]
        }
      ]
    },
    {
      "cell_type": "code",
      "source": [
        "# Function to plot ROC curve\n",
        "def plot_roc_curve(fpr, tpr, auc, model_name):\n",
        "    plt.figure(figsize=(8, 6))\n",
        "    plt.plot(fpr, tpr, color='blue', lw=2, label=f'{model_name} (AUC = {auc:.2f})')\n",
        "    plt.plot([0, 1], [0, 1], color='gray', linestyle='--')\n",
        "    plt.xlim([0.0, 1.0])\n",
        "    plt.ylim([0.0, 1.05])\n",
        "    plt.xlabel('False Positive Rate')\n",
        "    plt.ylabel('True Positive Rate')\n",
        "    plt.title(f'{model_name} ROC Curve')\n",
        "    plt.legend(loc=\"lower right\")\n",
        "    plt.grid(True)\n",
        "    plt.show()\n",
        "\n",
        "# Compute ROC curve and AUC for Random Forest\n",
        "rf_fpr, rf_tpr, _ = roc_curve(y_test, rf_y_score)\n",
        "rf_auc = roc_auc_score(y_test, rf_y_score)\n",
        "print(f\"Random Forest AUC: {rf_auc:.4f}\")\n",
        "\n",
        "# Compute ROC curve and AUC for XGBoost\n",
        "xgb_fpr, xgb_tpr, _ = roc_curve(y_test, xgb_y_score)\n",
        "xgb_auc = roc_auc_score(y_test, xgb_y_score)\n",
        "print(f\"XGBoost AUC: {xgb_auc:.4f}\")\n",
        "\n",
        "# Plot ROC curve for Random Forest\n",
        "plot_roc_curve(rf_fpr, rf_tpr, rf_auc, model_name=\"Random Forest\")\n",
        "\n",
        "# Plot ROC curve for XGBoost\n",
        "plot_roc_curve(xgb_fpr, xgb_tpr, xgb_auc, model_name=\"XGBoost\")\n"
      ],
      "metadata": {
        "colab": {
          "base_uri": "https://localhost:8080/",
          "height": 1000
        },
        "id": "EoZ0mPPWvXDI",
        "outputId": "bf24f18f-7dd5-414e-df48-457d9c727adb"
      },
      "execution_count": 42,
      "outputs": [
        {
          "output_type": "stream",
          "name": "stdout",
          "text": [
            "Random Forest AUC: 0.7088\n",
            "XGBoost AUC: 0.6718\n"
          ]
        },
        {
          "output_type": "display_data",
          "data": {
            "text/plain": [
              "<Figure size 800x600 with 1 Axes>"
            ],
            "image/png": "[encoded data removed]"
          },
          "metadata": {}
        },
        {
          "output_type": "display_data",
          "data": {
            "text/plain": [
              "<Figure size 800x600 with 1 Axes>"
            ],
            "image/png": "[encoded data removed]"
          },
          "metadata": {}
        }
      ]
    }
  ]
}